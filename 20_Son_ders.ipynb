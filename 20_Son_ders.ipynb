{
 "cells": [
  {
   "cell_type": "code",
   "execution_count": 15,
   "metadata": {},
   "outputs": [
    {
     "name": "stdout",
     "output_type": "stream",
     "text": [
      "kazanan bilgisayar\n",
      "kazanan bilgisayar\n",
      "kazanan bilgisayar\n",
      "Berabere\n",
      "kazanan sensin\n",
      "Berabere\n",
      "Oyun bitti\n"
     ]
    }
   ],
   "source": [
    "a = input(\"Tas, Kagit, Makas oynamak ister misin?(yes or no)\").lower()\n",
    "\n",
    "import random\n",
    "\n",
    "pc_list = [\"t\", \"k\", \"m\"]\n",
    "\n",
    "while a == \"yes\":\n",
    "\n",
    "    pc = pc_list[random.randint(0,2)]\n",
    "\n",
    "\n",
    "\n",
    "    you = input(\"Birini sec: t: tas k:kagit m:makas\").lower()\n",
    "\n",
    "\n",
    "    if (pc == \"t\" and you == \"m\") or (pc == \"m\" and you == \"k\") or(pc == \"k\" and you == \"t\"):\n",
    "\n",
    "        print(\"kazanan bilgisayar\")\n",
    "\n",
    "    elif (pc == \"m\" and you == \"t\") or (pc == \"k\" and you == \"m\") or(pc == \"t\" and you == \"k\"):\n",
    "\n",
    "        print(\"kazanan sensin\")\n",
    "\n",
    "    elif  (pc == \"m\" and you == \"m\") or (pc == \"k\" and you == \"k\") or(pc == \"t\" and you == \"t\"):\n",
    "\n",
    "        print(\"Berabere\")\n",
    "\n",
    "    else:\n",
    "        print(\"Hatali giris\")\n",
    "\n",
    "\n",
    "\n",
    "    a = input(\"tas kagit makas oyununa devam etmek ister misin? (yes or no)\").lower()\n",
    "\n",
    "print(\"Oyun bitti\")\n",
    "\n",
    "\n",
    "\n"
   ]
  },
  {
   "cell_type": "code",
   "execution_count": 25,
   "metadata": {},
   "outputs": [],
   "source": [
    "def tas_kagit_makas():\n",
    "\n",
    "    a = input(\"Tas, Kagit, Makas oynamak ister misin?(yes or no)\").lower()\n",
    "\n",
    "    import random\n",
    "\n",
    "    pc_list = [\"t\", \"k\", \"m\"]\n",
    "\n",
    "    while a == \"yes\":\n",
    "\n",
    "        pc = pc_list[random.randint(0,2)]\n",
    "\n",
    "\n",
    "\n",
    "        you = input(\"Birini sec: t: tas k:kagit m:makas\").lower()\n",
    "\n",
    "\n",
    "        if (pc == \"t\" and you == \"m\") or (pc == \"m\" and you == \"k\") or(pc == \"k\" and you == \"t\"):\n",
    "\n",
    "            print(\"kazanan bilgisayar\")\n",
    "\n",
    "        elif (pc == \"m\" and you == \"t\") or (pc == \"k\" and you == \"m\") or(pc == \"t\" and you == \"k\"):\n",
    "\n",
    "            print(\"kazanan sensin\")\n",
    "\n",
    "        elif  (pc == \"m\" and you == \"m\") or (pc == \"k\" and you == \"k\") or(pc == \"t\" and you == \"t\"):\n",
    "\n",
    "            print(\"Berabere\")\n",
    "\n",
    "        else:\n",
    "            print(\"Hatali giris\")\n",
    "\n",
    "\n",
    "\n",
    "        a = input(\"tas kagit makas oyununa devam etmek ister misin? (yes or no)\").lower()\n",
    "\n",
    "    print(\"Oyun bitti\")\n",
    "\n",
    "    "
   ]
  },
  {
   "cell_type": "code",
   "execution_count": 26,
   "metadata": {},
   "outputs": [
    {
     "name": "stdout",
     "output_type": "stream",
     "text": [
      "kazanan sensin\n",
      "Oyun bitti\n"
     ]
    }
   ],
   "source": [
    "tas_kagit_makas()"
   ]
  },
  {
   "cell_type": "code",
   "execution_count": null,
   "metadata": {},
   "outputs": [],
   "source": []
  }
 ],
 "metadata": {
  "kernelspec": {
   "display_name": "base",
   "language": "python",
   "name": "python3"
  },
  "language_info": {
   "codemirror_mode": {
    "name": "ipython",
    "version": 3
   },
   "file_extension": ".py",
   "mimetype": "text/x-python",
   "name": "python",
   "nbconvert_exporter": "python",
   "pygments_lexer": "ipython3",
   "version": "3.11.5"
  }
 },
 "nbformat": 4,
 "nbformat_minor": 2
}
