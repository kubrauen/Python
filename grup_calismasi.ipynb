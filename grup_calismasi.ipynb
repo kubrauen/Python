{
 "cells": [
  {
   "cell_type": "markdown",
   "metadata": {},
   "source": [
    "## For dongusunde kullanilan medhodlar\n",
    "### sorted --- bir listenin veya verilerin siralanmasi icin kullanilir"
   ]
  },
  {
   "cell_type": "code",
   "execution_count": 20,
   "metadata": {},
   "outputs": [
    {
     "name": "stdout",
     "output_type": "stream",
     "text": [
      "0\n",
      "1\n",
      "2\n",
      "3\n",
      "3\n",
      "4\n",
      "5\n",
      "7\n",
      "9\n"
     ]
    }
   ],
   "source": [
    "sayilar = [ 4,7,9,3,1,0,5,2,3]\n",
    "\n",
    "for sayi in sorted(sayilar):\n",
    "    print(sayi)\n",
    "    \n",
    "\n",
    "\n",
    "\n"
   ]
  },
  {
   "cell_type": "markdown",
   "metadata": {},
   "source": [
    "###  filter -- Belirli bir kosulu saglamak ucere, istedigimiz veriyi cekebiliriz."
   ]
  },
  {
   "cell_type": "code",
   "execution_count": 24,
   "metadata": {},
   "outputs": [
    {
     "name": "stdout",
     "output_type": "stream",
     "text": [
      "7\n",
      "9\n",
      "3\n",
      "1\n",
      "5\n",
      "3\n"
     ]
    }
   ],
   "source": [
    "for tek_sayilar in filter(lambda x : x % 2 != 0, sayilar):\n",
    "    print(tek_sayilar)\n",
    "\n",
    "    "
   ]
  },
  {
   "cell_type": "markdown",
   "metadata": {},
   "source": [
    "### map --- liste elemanlarina belirli bir islem yaptirmak icin kullanilir"
   ]
  },
  {
   "cell_type": "code",
   "execution_count": 26,
   "metadata": {},
   "outputs": [
    {
     "name": "stdout",
     "output_type": "stream",
     "text": [
      "16\n",
      "49\n",
      "81\n",
      "9\n",
      "1\n",
      "0\n",
      "25\n",
      "4\n",
      "9\n"
     ]
    }
   ],
   "source": [
    "for karesi in map(lambda x : x ** 2, sayilar):\n",
    "    print(karesi)"
   ]
  },
  {
   "cell_type": "markdown",
   "metadata": {},
   "source": [
    "### zip --- ikiden fazla fonksiyon uzerinde ayni anda islem yapmaya yarar"
   ]
  },
  {
   "cell_type": "code",
   "execution_count": 31,
   "metadata": {},
   "outputs": [],
   "source": [
    "fiyatlar = [2.99, 3.99, 4.99, 5.99]\n",
    "urun = [\"Elma\", \"Armut\", \"Karpuz\", \"Cilek\"]"
   ]
  },
  {
   "cell_type": "code",
   "execution_count": 32,
   "metadata": {},
   "outputs": [
    {
     "name": "stdout",
     "output_type": "stream",
     "text": [
      "Elma nin fiyati 2.99\n",
      "Armut nin fiyati 3.99\n",
      "Karpuz nin fiyati 4.99\n",
      "Cilek nin fiyati 5.99\n"
     ]
    }
   ],
   "source": [
    "for indirimli_urun, indirimli_fiyat in zip(urun,fiyatlar):\n",
    "    print(indirimli_urun, \"nin fiyati\", indirimli_fiyat)"
   ]
  },
  {
   "cell_type": "code",
   "execution_count": 33,
   "metadata": {},
   "outputs": [],
   "source": [
    "###  atm sifresi olusturma"
   ]
  },
  {
   "cell_type": "code",
   "execution_count": 1,
   "metadata": {},
   "outputs": [
    {
     "name": "stdout",
     "output_type": "stream",
     "text": [
      "Yanlis sifre girdiniz. Kalan hakkiniz : 2\n",
      "Yanlis sifre girdiniz. Kalan hakkiniz : 1\n",
      "Yanlis sifre girdiniz. Kalan hakkiniz : 0\n",
      "Bloke oldunuz.\n"
     ]
    }
   ],
   "source": [
    "password = \"1432\"\n",
    "deneme = 0\n",
    "deneme_sayisi = 3\n",
    "while deneme < deneme_sayisi:\n",
    "    denenen_sifre = input(\"Lütfen sifrenizi giriniz\")\n",
    "    if denenen_sifre == password:\n",
    "        print(\"Tebrikler giris tamamlandı\")\n",
    "        break\n",
    "    else:\n",
    "        deneme += 1\n",
    "    print(\"Yanlis sifre girdiniz. Kalan hakkiniz :\",deneme_sayisi-deneme)\n",
    "    if deneme == deneme_sayisi:\n",
    "        print(\"Bloke oldunuz.\")"
   ]
  }
 ],
 "metadata": {
  "kernelspec": {
   "display_name": "base",
   "language": "python",
   "name": "python3"
  },
  "language_info": {
   "codemirror_mode": {
    "name": "ipython",
    "version": 3
   },
   "file_extension": ".py",
   "mimetype": "text/x-python",
   "name": "python",
   "nbconvert_exporter": "python",
   "pygments_lexer": "ipython3",
   "version": "0.0.0"
  }
 },
 "nbformat": 4,
 "nbformat_minor": 2
}
