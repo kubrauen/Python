{
 "cells": [
  {
   "cell_type": "markdown",
   "metadata": {},
   "source": [
    "## Print () Function"
   ]
  },
  {
   "cell_type": "code",
   "execution_count": 1,
   "metadata": {},
   "outputs": [
    {
     "name": "stdout",
     "output_type": "stream",
     "text": [
      "Mikail Serhan Mustafa\n"
     ]
    }
   ],
   "source": [
    "print(\"Mikail\", \"Serhan\",\"Mustafa\")"
   ]
  },
  {
   "cell_type": "code",
   "execution_count": 2,
   "metadata": {},
   "outputs": [
    {
     "name": "stdout",
     "output_type": "stream",
     "text": [
      "Mikail**Serhan**Mustafa\n"
     ]
    }
   ],
   "source": [
    "print(\"Mikail\", \"Serhan\",\"Mustafa\", sep = \"**\")"
   ]
  },
  {
   "cell_type": "code",
   "execution_count": 5,
   "metadata": {},
   "outputs": [
    {
     "name": "stdout",
     "output_type": "stream",
     "text": [
      "Mikail   Serhan   Mustafa\n"
     ]
    }
   ],
   "source": [
    "print(\"Mikail\", \"Serhan\",\"Mustafa\", sep = \"   \") #aralarina bosluk veya karakter koymak istersek seperator"
   ]
  },
  {
   "cell_type": "code",
   "execution_count": 7,
   "metadata": {},
   "outputs": [
    {
     "name": "stdout",
     "output_type": "stream",
     "text": [
      "Mikail and Serhan and Mustafa\n"
     ]
    }
   ],
   "source": [
    "print(\"Mikail\", \"Serhan\",\"Mustafa\", sep = \" and \")"
   ]
  },
  {
   "cell_type": "code",
   "execution_count": 8,
   "metadata": {},
   "outputs": [
    {
     "name": "stdout",
     "output_type": "stream",
     "text": [
      "Mikail\n"
     ]
    }
   ],
   "source": [
    "print(\"Mikail\", sep=\"\\U0001F600\")"
   ]
  },
  {
   "cell_type": "code",
   "execution_count": 10,
   "metadata": {},
   "outputs": [
    {
     "name": "stdout",
     "output_type": "stream",
     "text": [
      "\n"
     ]
    }
   ],
   "source": [
    "print()"
   ]
  },
  {
   "cell_type": "code",
   "execution_count": 11,
   "metadata": {},
   "outputs": [
    {
     "name": "stdout",
     "output_type": "stream",
     "text": [
      "Help on built-in function print in module builtins:\n",
      "\n",
      "print(*args, sep=' ', end='\\n', file=None, flush=False)\n",
      "    Prints the values to a stream, or to sys.stdout by default.\n",
      "    \n",
      "    sep\n",
      "      string inserted between values, default a space.\n",
      "    end\n",
      "      string appended after the last value, default a newline.\n",
      "    file\n",
      "      a file-like object (stream); defaults to the current sys.stdout.\n",
      "    flush\n",
      "      whether to forcibly flush the stream.\n",
      "\n"
     ]
    }
   ],
   "source": [
    "help(print)"
   ]
  },
  {
   "cell_type": "code",
   "execution_count": 14,
   "metadata": {},
   "outputs": [
    {
     "ename": "SyntaxError",
     "evalue": "invalid syntax (3105335244.py, line 1)",
     "output_type": "error",
     "traceback": [
      "\u001b[1;36m  Cell \u001b[1;32mIn[14], line 1\u001b[1;36m\u001b[0m\n\u001b[1;33m    print(\"Mikail\", \"Serhan\", \"Mustafa\", sep = -)\u001b[0m\n\u001b[1;37m                                                ^\u001b[0m\n\u001b[1;31mSyntaxError\u001b[0m\u001b[1;31m:\u001b[0m invalid syntax\n"
     ]
    }
   ],
   "source": [
    "print(\"Mikail\", \"Serhan\", \"Mustafa\", sep = -)"
   ]
  },
  {
   "cell_type": "code",
   "execution_count": 16,
   "metadata": {},
   "outputs": [
    {
     "name": "stdout",
     "output_type": "stream",
     "text": [
      "Orkun\n",
      "Sedat\n",
      "Aytac\n"
     ]
    }
   ],
   "source": [
    "print(\"Orkun\")\n",
    "print(\"Sedat\")\n",
    "print(\"Aytac\")"
   ]
  },
  {
   "cell_type": "code",
   "execution_count": 17,
   "metadata": {},
   "outputs": [
    {
     "name": "stdout",
     "output_type": "stream",
     "text": [
      "Orkun**Sedat\n",
      "Aytac\n"
     ]
    }
   ],
   "source": [
    "print(\"Orkun\", end = \"**\")\n",
    "print(\"Sedat\")\n",
    "print(\"Aytac\")"
   ]
  },
  {
   "cell_type": "code",
   "execution_count": 19,
   "metadata": {},
   "outputs": [
    {
     "name": "stdout",
     "output_type": "stream",
     "text": [
      "Orkun!!Sedat\n"
     ]
    }
   ],
   "source": [
    "print(\"Orkun\", end = \"!!\")\n",
    "print(\"Sedat\")\n"
   ]
  },
  {
   "cell_type": "code",
   "execution_count": 20,
   "metadata": {},
   "outputs": [
    {
     "name": "stdout",
     "output_type": "stream",
     "text": [
      "Orkun!Sedat*Aytac--Ali &&"
     ]
    }
   ],
   "source": [
    "print(\"Orkun\", end= \"!\")\n",
    "print(\"Sedat\", end= \"*\")\n",
    "print(\"Aytac\", \"Ali\", sep = \"--\", end = \" &&\")"
   ]
  },
  {
   "cell_type": "code",
   "execution_count": 24,
   "metadata": {},
   "outputs": [
    {
     "name": "stdout",
     "output_type": "stream",
     "text": [
      "Elma\n",
      "Armut\n",
      "Portakal\n"
     ]
    }
   ],
   "source": [
    "print(\"Elma\", \"Armut\", \"Portakal\", sep = \"\\n\")\n"
   ]
  },
  {
   "cell_type": "code",
   "execution_count": 27,
   "metadata": {},
   "outputs": [
    {
     "name": "stdout",
     "output_type": "stream",
     "text": [
      "Hello world--35**40**75\n",
      "son satir\n"
     ]
    }
   ],
   "source": [
    "print(\"Hello world\", end = \"--\")\n",
    "print(\"35\", 40, \"75\", sep = \"**\")\n",
    "print (\"son satir\")"
   ]
  },
  {
   "cell_type": "code",
   "execution_count": 26,
   "metadata": {},
   "outputs": [
    {
     "name": "stdout",
     "output_type": "stream",
     "text": [
      "son satir\n"
     ]
    }
   ],
   "source": [
    "print (\"son satir\")"
   ]
  },
  {
   "cell_type": "markdown",
   "metadata": {},
   "source": [
    "## Input()"
   ]
  },
  {
   "cell_type": "code",
   "execution_count": 28,
   "metadata": {},
   "outputs": [
    {
     "data": {
      "text/plain": [
       "<bound method Kernel.raw_input of <ipykernel.ipkernel.IPythonKernel object at 0x000001EB2590A010>>"
      ]
     },
     "execution_count": 28,
     "metadata": {},
     "output_type": "execute_result"
    }
   ],
   "source": [
    "input"
   ]
  },
  {
   "cell_type": "code",
   "execution_count": 33,
   "metadata": {},
   "outputs": [
    {
     "data": {
      "text/plain": [
       "\"'32'\""
      ]
     },
     "execution_count": 33,
     "metadata": {},
     "output_type": "execute_result"
    }
   ],
   "source": [
    "input() #input ile alinan veriler stringtir."
   ]
  },
  {
   "cell_type": "code",
   "execution_count": 1,
   "metadata": {},
   "outputs": [],
   "source": [
    "age = input(\"Lutfen yasinizi girin\") "
   ]
  },
  {
   "cell_type": "code",
   "execution_count": 2,
   "metadata": {},
   "outputs": [
    {
     "data": {
      "text/plain": [
       "'70'"
      ]
     },
     "execution_count": 2,
     "metadata": {},
     "output_type": "execute_result"
    }
   ],
   "source": [
    "age\n"
   ]
  },
  {
   "cell_type": "code",
   "execution_count": 37,
   "metadata": {},
   "outputs": [
    {
     "ename": "TypeError",
     "evalue": "unsupported operand type(s) for -: 'int' and 'str'",
     "output_type": "error",
     "traceback": [
      "\u001b[1;31m---------------------------------------------------------------------------\u001b[0m",
      "\u001b[1;31mTypeError\u001b[0m                                 Traceback (most recent call last)",
      "Cell \u001b[1;32mIn[37], line 1\u001b[0m\n\u001b[1;32m----> 1\u001b[0m \u001b[38;5;241m2024\u001b[39m \u001b[38;5;241m-\u001b[39m age\n",
      "\u001b[1;31mTypeError\u001b[0m: unsupported operand type(s) for -: 'int' and 'str'"
     ]
    }
   ],
   "source": [
    "2024 - age  # Calismaz cunku int e cevirmemiz lazim"
   ]
  },
  {
   "cell_type": "code",
   "execution_count": 39,
   "metadata": {},
   "outputs": [
    {
     "data": {
      "text/plain": [
       "1992"
      ]
     },
     "execution_count": 39,
     "metadata": {},
     "output_type": "execute_result"
    }
   ],
   "source": [
    "age = int(age)\n",
    "2024 -age"
   ]
  },
  {
   "cell_type": "code",
   "execution_count": 3,
   "metadata": {},
   "outputs": [],
   "source": [
    "age_1 = float(input(\"Lutfen yasinizi rakamlarla girin:\")) #int cevirme \n"
   ]
  },
  {
   "cell_type": "code",
   "execution_count": 4,
   "metadata": {},
   "outputs": [
    {
     "data": {
      "text/plain": [
       "float"
      ]
     },
     "execution_count": 4,
     "metadata": {},
     "output_type": "execute_result"
    }
   ],
   "source": [
    "type(age_1)"
   ]
  },
  {
   "cell_type": "code",
   "execution_count": 5,
   "metadata": {},
   "outputs": [
    {
     "name": "stdout",
     "output_type": "stream",
     "text": [
      "Dogum yiliniz: 1974\n"
     ]
    }
   ],
   "source": [
    "yas = input(\"Lutfen yasinizi girin\")\n",
    "yas = int(yas)\n",
    "dogum_yili = 2024 - yas\n",
    "print(\"Dogum yiliniz:\", dogum_yili)"
   ]
  },
  {
   "cell_type": "code",
   "execution_count": null,
   "metadata": {},
   "outputs": [],
   "source": [
    "\n"
   ]
  },
  {
   "cell_type": "code",
   "execution_count": 6,
   "metadata": {},
   "outputs": [
    {
     "name": "stdout",
     "output_type": "stream",
     "text": [
      "Vücut Kitle İndeksi: 0.0024158817968558525\n"
     ]
    }
   ],
   "source": [
    "kilo = float(input(\"Kilonuz (kg cinsinden): \"))\n",
    "boy = float(input(\"Boyunuz (metre cinsinden): \"))\n",
    "    \n",
    "vki = kilo / (boy ** 2)\n",
    "    \n",
    "print(\"Vücut Kitle İndeksi:\", vki)"
   ]
  },
  {
   "cell_type": "code",
   "execution_count": 60,
   "metadata": {},
   "outputs": [
    {
     "name": "stdout",
     "output_type": "stream",
     "text": [
      "27.60945175517229\n"
     ]
    }
   ],
   "source": [
    "kilo = int(input(\"Lutfen kilonuzu kg cinsinden girin\"))\n",
    "\n",
    "boy = int(input(\"Lutfen boyunu cm cinsinden girin\"))\n",
    "vki = kilo / ((boy/100) ** 2 ) # boy bilgisini m cinsinden olmali \n",
    "print (vki)"
   ]
  },
  {
   "cell_type": "markdown",
   "metadata": {},
   "source": [
    "## Escape Sequences\n"
   ]
  },
  {
   "cell_type": "code",
   "execution_count": 63,
   "metadata": {},
   "outputs": [
    {
     "name": "stdout",
     "output_type": "stream",
     "text": [
      "I'm Pyhton Learner\n"
     ]
    }
   ],
   "source": [
    "print('I\\'m Pyhton Learner')"
   ]
  },
  {
   "cell_type": "code",
   "execution_count": 68,
   "metadata": {},
   "outputs": [
    {
     "name": "stdout",
     "output_type": "stream",
     "text": [
      "Escape Sequences denemesi. \n",
      "deneme deneme deneme\n"
     ]
    }
   ],
   "source": [
    "print(\"Escape Sequences denemesi. \\ndeneme deneme deneme\") #\\n bir alt satira gecmek icin kullanilir"
   ]
  },
  {
   "cell_type": "code",
   "execution_count": 71,
   "metadata": {},
   "outputs": [
    {
     "name": "stdout",
     "output_type": "stream",
     "text": [
      "Escape Sequences denemesideneme deneme deneme\n"
     ]
    }
   ],
   "source": [
    "print(\"Escape Sequences denemesi.\\bdeneme deneme deneme\") # bir backspace tusuna basma anlamina gelir"
   ]
  },
  {
   "cell_type": "code",
   "execution_count": 72,
   "metadata": {},
   "outputs": [
    {
     "name": "stdout",
     "output_type": "stream",
     "text": [
      "BetuAysAytac\n"
     ]
    }
   ],
   "source": [
    "print(\"Betul\", \"Ayse\", \"Aytac\", sep = \"\\b\")"
   ]
  },
  {
   "cell_type": "code",
   "execution_count": 73,
   "metadata": {},
   "outputs": [
    {
     "name": "stdout",
     "output_type": "stream",
     "text": [
      "Bizde geri \\n vites olmaz\n"
     ]
    }
   ],
   "source": [
    "print(r\"Bizde geri \\n vites olmaz\")"
   ]
  },
  {
   "cell_type": "code",
   "execution_count": 74,
   "metadata": {},
   "outputs": [],
   "source": [
    "## Kullanidan Celcius bilgisini alin ve Fahrenheit a cevirin"
   ]
  },
  {
   "cell_type": "code",
   "execution_count": 4,
   "metadata": {},
   "outputs": [
    {
     "name": "stdout",
     "output_type": "stream",
     "text": [
      " Fahrenheit degeri:  33.8 'a esittir\n"
     ]
    }
   ],
   "source": [
    "c = int(input(\"Lutfen Celcius degerini girin\"))\n",
    "f = float( c * 1.8 + 32)\n",
    "print(\" Fahrenheit degeri: \", f , \"'a esittir\" )\n"
   ]
  },
  {
   "cell_type": "code",
   "execution_count": null,
   "metadata": {},
   "outputs": [],
   "source": []
  },
  {
   "cell_type": "code",
   "execution_count": null,
   "metadata": {},
   "outputs": [],
   "source": []
  }
 ],
 "metadata": {
  "kernelspec": {
   "display_name": "base",
   "language": "python",
   "name": "python3"
  },
  "language_info": {
   "codemirror_mode": {
    "name": "ipython",
    "version": 3
   },
   "file_extension": ".py",
   "mimetype": "text/x-python",
   "name": "python",
   "nbconvert_exporter": "python",
   "pygments_lexer": "ipython3",
   "version": "0.0.0"
  }
 },
 "nbformat": 4,
 "nbformat_minor": 2
}
