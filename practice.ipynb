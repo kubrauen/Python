{
 "cells": [
  {
   "cell_type": "markdown",
   "metadata": {},
   "source": [
    "***Çarpım Tablosu:***\n",
    "- Kullanıcıdan bir sayı alır ve bu sayının çarpım tablosunu 1'den 10'a kadar ekrana yazdırır."
   ]
  },
  {
   "cell_type": "code",
   "execution_count": null,
   "metadata": {},
   "outputs": [],
   "source": []
  },
  {
   "cell_type": "markdown",
   "metadata": {},
   "source": [
    "***Sayı Tahmin Oyunu:***\n",
    "- Bilgisayar rastgele bir sayı seçsin (örneğin 1 ile 100 arasında).\n",
    "- Kullanıcıdan sayı tahminleri alın ve bilgisayarın seçtiği sayı ile karşılaştırın.\n",
    "- Kullanıcıya sayıyı doğru tahmin edip etmediğini söyleyin.\n",
    "- Tahminler arasında döngü kullanın."
   ]
  },
  {
   "cell_type": "code",
   "execution_count": null,
   "metadata": {},
   "outputs": [],
   "source": []
  },
  {
   "cell_type": "markdown",
   "metadata": {},
   "source": [
    "***Mükemmel Sayılar:***\n",
    "\n",
    "- Belirli bir aralıkta mükemmel sayıları bulun.\n",
    "- Mükemmel sayı, kendisi hariç pozitif bölenlerinin toplamı kendisine eşit olan sayıdır."
   ]
  },
  {
   "cell_type": "code",
   "execution_count": null,
   "metadata": {},
   "outputs": [],
   "source": []
  },
  {
   "cell_type": "markdown",
   "metadata": {},
   "source": [
    "***Asal Sayı Bulucu:***\n",
    "- Kullanıcıdan bir sayı alır ve bu sayının asal olup olmadığını kontrol eder."
   ]
  },
  {
   "cell_type": "code",
   "execution_count": null,
   "metadata": {},
   "outputs": [],
   "source": []
  },
  {
   "cell_type": "markdown",
   "metadata": {},
   "source": [
    "***Palindrom Kontrolü:***\n",
    "- Kullanıcıdan bir kelime veya cümle alır ve bu kelimenin palindrom olup olmadığını kontrol eder."
   ]
  },
  {
   "cell_type": "code",
   "execution_count": null,
   "metadata": {},
   "outputs": [],
   "source": []
  },
  {
   "cell_type": "markdown",
   "metadata": {},
   "source": [
    "***Müşteri Sipariş Takip Sistemi:***\n",
    "- Kullanıcıdan bir ürün adı, miktarı ve birim fiyatı alarak toplam sipariş tutarını hesaplar. \n",
    "- Ardından kullanıcıya indirim uygulanıp uygulanmayacağını sormaktadır."
   ]
  },
  {
   "cell_type": "code",
   "execution_count": null,
   "metadata": {},
   "outputs": [],
   "source": []
  },
  {
   "cell_type": "markdown",
   "metadata": {},
   "source": [
    "***Giriş Kontrol Sistemi:***\n",
    "- Kullanıcının adını ve yaşını kontrol ederek belirli bir yaşın altındaysa belirli bir bölüme giriş izni verir."
   ]
  },
  {
   "cell_type": "code",
   "execution_count": 2,
   "metadata": {},
   "outputs": [
    {
     "name": "stdout",
     "output_type": "stream",
     "text": [
      "Merhaba kubra! Bu bölüme hoş geldiniz.\n"
     ]
    }
   ],
   "source": [
    "ad = input(\"Lütfen adınızı giriniz: \")\n",
    "yas = int(input(\"Lütfen yaşınızı giriniz: \"))\n",
    "\n",
    "if yas < 18:\n",
    "    print(f\"Üzgünüm {ad}, bu bölüme giriş izniniz yoktur!\")\n",
    "\n",
    "else:\n",
    "    print(f\"Merhaba {ad}! Bu bölüme hoş geldiniz.\")"
   ]
  },
  {
   "cell_type": "markdown",
   "metadata": {},
   "source": [
    "***Sıcaklık Uyarı Sistemi:***\n",
    "- Kullanıcıdan bir sıcaklık değeri alır ve belirli bir sıcaklık aralığındaysa uygun bir mesaj gösterir."
   ]
  },
  {
   "cell_type": "code",
   "execution_count": 1,
   "metadata": {},
   "outputs": [
    {
     "name": "stdout",
     "output_type": "stream",
     "text": [
      "Dışarısı çok sıcak! Lütfen serin kalmaya çalışın.\n"
     ]
    }
   ],
   "source": [
    "sicaklik = float(input(\"Bugünkü sıcaklık değerini giriniz:\"))\n",
    "\n",
    "if sicaklik > 30:\n",
    "    print(\"Dışarısı çok sıcak! Lütfen serin kalmaya çalışın.\")\n",
    "\n",
    "elif 20 <= sicaklik <= 30:\n",
    "    print(\"Hava sıcaklığı normal. Günü değerlendir!\")\n",
    "    \n",
    "else:\n",
    "    print(\"Hava serin. Gerekirse bir hırka alabilirsiniz.\")"
   ]
  },
  {
   "cell_type": "markdown",
   "metadata": {},
   "source": [
    "***Alışveriş Sepeti Hesaplayıcı:***\n",
    "- Kullanıcıdan bir dizi ürün, miktar ve fiyat alır. Ardından bu ürünleri sepete ekler ve toplam tutarı hesaplar."
   ]
  },
  {
   "cell_type": "code",
   "execution_count": null,
   "metadata": {},
   "outputs": [],
   "source": [
    "toplam_tutar = 0\n",
    "\n",
    "while True:\n",
    "    \n",
    "    urun_adi = input(\"Ürün adını giriniz (Çıkmak için 'q' tuşuna basın):\")\n",
    "    \n",
    "    if urun_adi.lower() == \"q\":\n",
    "        break\n",
    "    \n",
    "    miktar = int(input(\"Ürün miktarını giriniz: \"))\n",
    "    birim_fiyat = float(input(\"Ürün birim fiyatını giriniz: \"))\n",
    "    \n",
    "    toplam_tutar += miktar * birim_fiyat\n",
    "    \n",
    "print(\"Toplam tutar:\", toplam_tutar)"
   ]
  },
  {
   "cell_type": "markdown",
   "metadata": {},
   "source": [
    "***Toplam Harcama Hesaplayıcı:***\n",
    "- Kullanıcıdan bir ay boyunca günlük harcamalarını alır ve bu harcamaların toplamını gösterir."
   ]
  },
  {
   "cell_type": "code",
   "execution_count": null,
   "metadata": {},
   "outputs": [],
   "source": [
    "toplam_harcama = 0\n",
    "\n",
    "for gun in range(1, 31):\n",
    "    harcama = float(input(f\"{gun}. gün harcamanızı giriniz:\"))\n",
    "    toplam_harcama += harcama\n",
    "    \n",
    "print(\"Toplam Harcama:\", toplam_harcama)"
   ]
  },
  {
   "cell_type": "markdown",
   "metadata": {},
   "source": [
    "***Kullanıcı Girişi ve Yetkilendirme:***\n",
    "* Kullanıcıdan bir kullanıcı adı ve şifre alır, ardından yetkilendirme yapar."
   ]
  },
  {
   "cell_type": "code",
   "execution_count": 3,
   "metadata": {},
   "outputs": [
    {
     "name": "stdout",
     "output_type": "stream",
     "text": [
      "Hatalı kullanıcı adı veya şifre.\n"
     ]
    }
   ],
   "source": [
    "kullanici_adi = input(\"Kullanıcı adınızı giriniz: \")\n",
    "sifre = input(\"Şifrenizi giriniz: \")\n",
    "\n",
    "\n",
    "if kullanici_adi == \"admin\" and sifre == \"1234\":\n",
    "    print(\"Giriş başarılı!\")\n",
    "    \n",
    "else:\n",
    "    print(\"Hatalı kullanıcı adı veya şifre.\")"
   ]
  },
  {
   "cell_type": "markdown",
   "metadata": {},
   "source": [
    "***Yemek Siparişi Hesaplayıcı:***\n",
    "* Kullanıcıdan sipariş edilen yemeklerin fiyatlarını ve miktarlarını alarak toplam sipariş tutarını hesaplar."
   ]
  },
  {
   "cell_type": "code",
   "execution_count": 4,
   "metadata": {},
   "outputs": [
    {
     "name": "stdout",
     "output_type": "stream",
     "text": [
      "Toplam Tutar: 21.98\n"
     ]
    }
   ],
   "source": [
    "toplam_tutar = 0\n",
    "\n",
    "while True:\n",
    "    yemek = input(\"Sipariş etmek istediğiniz yemeği giriniz (Çıkmak için \\\"q\\\" tuşuna basınız.):\")\n",
    "    \n",
    "    if yemek == \"q\":\n",
    "        break\n",
    "    \n",
    "    miktar = int(input(\"Kaç porsiyon istiyorsunuz?: \"))\n",
    "    fiyat = float(input(\"Birim fiyatı girin: \"))\n",
    "    \n",
    "    toplam_tutar += miktar * fiyat\n",
    "    \n",
    "print(f\"Toplam Tutar: {toplam_tutar}\")\n",
    "    \n",
    "    "
   ]
  },
  {
   "cell_type": "markdown",
   "metadata": {},
   "source": [
    "***Günlük Adımlar Sayacı:***\n",
    "* Kullanıcıdan bir hafta boyunca günlük adımlarını alır ve haftanın sonunda toplam adım sayısını gösterir."
   ]
  },
  {
   "cell_type": "code",
   "execution_count": 5,
   "metadata": {},
   "outputs": [
    {
     "name": "stdout",
     "output_type": "stream",
     "text": [
      "Haftalık Toplam Adım Sayısı: 36718\n"
     ]
    }
   ],
   "source": [
    "toplam_adim = 0\n",
    "\n",
    "for gun in range(1, 8):\n",
    "    adim_sayisi = int(input(f\"{gun}. gün adım sayısını giriniz:\"))\n",
    "    toplam_adim += adim_sayisi\n",
    "    \n",
    "print(f\"Haftalık Toplam Adım Sayısı: {toplam_adim}\")"
   ]
  },
  {
   "cell_type": "markdown",
   "metadata": {},
   "source": [
    "***Gelir ve Gider Hesaplayıcı:***\n",
    "* Kullanıcıdan bir ay boyunca gelir ve giderleri alır ve bakiyeyi hesaplar."
   ]
  },
  {
   "cell_type": "code",
   "execution_count": null,
   "metadata": {},
   "outputs": [],
   "source": [
    "gelir = float(input(\"Aylık gelirinizi giriniz: \"))\n",
    "gider = float(input(\"Aylık giderinizi giriniz: \"))\n",
    "\n",
    "bakiye = gelir - gider\n",
    "\n",
    "if bakiye > 0:\n",
    "    print(\"Bakiyeniz pozitif. Harcamalara dikkat edin.\")\n",
    "elif bakiye < 0:\n",
    "    print(\"Bakiyeniz negatif. Harcamalarınızı gözden geçirin.\")\n",
    "else:\n",
    "    print(\"Bakiyeniz sıfır. Dikkatli harcama yapın.\")"
   ]
  },
  {
   "cell_type": "markdown",
   "metadata": {},
   "source": [
    "***Fatura Hesaplayıcı:***\n",
    "* Kullanıcıdan ürün miktarı ve birim fiyatı alarak toplam tutarı hesaplar ve KDV ekler."
   ]
  },
  {
   "cell_type": "code",
   "execution_count": null,
   "metadata": {},
   "outputs": [],
   "source": []
  },
  {
   "cell_type": "markdown",
   "metadata": {},
   "source": [
    "***Fibonacci Sayıları:***\n",
    "* Kullanıcıdan bir sınır değeri alarak, Fibonacci sayılarını bu sınır dahilinde ekrana yazdırır."
   ]
  },
  {
   "cell_type": "code",
   "execution_count": null,
   "metadata": {},
   "outputs": [],
   "source": []
  },
  {
   "cell_type": "markdown",
   "metadata": {},
   "source": [
    "***Döviz Dönüştürücü:***\n",
    "* Kullanıcıdan döviz türü ve miktarını alarak, belirli bir döviz kuru üzerinden TL'ye çevirir."
   ]
  },
  {
   "cell_type": "code",
   "execution_count": null,
   "metadata": {},
   "outputs": [],
   "source": []
  },
  {
   "cell_type": "markdown",
   "metadata": {},
   "source": [
    "***Enerji Tüketimi Hesaplayıcı:***\n",
    "* Kullanıcıdan cihazın güç tüketimi (watt) ve kullanım süresini alarak enerji tüketimini hesaplar."
   ]
  },
  {
   "cell_type": "code",
   "execution_count": null,
   "metadata": {},
   "outputs": [],
   "source": []
  },
  {
   "cell_type": "markdown",
   "metadata": {},
   "source": [
    "***Kredi Hesaplayıcı:***\n",
    "* Kullanıcıdan kredi miktarı, faiz oranı ve vade süresini alarak aylık taksit tutarını hesaplar."
   ]
  },
  {
   "cell_type": "code",
   "execution_count": null,
   "metadata": {},
   "outputs": [],
   "source": []
  },
  {
   "cell_type": "markdown",
   "metadata": {},
   "source": [
    "***Not Hesaplayıcı:***\n",
    "* Kullanıcıdan bir öğrencinin sınav notlarını alarak, ortalamayı hesaplar ve belirli bir sınıfa göre notunu bildirir."
   ]
  },
  {
   "cell_type": "code",
   "execution_count": null,
   "metadata": {},
   "outputs": [],
   "source": []
  },
  {
   "cell_type": "markdown",
   "metadata": {},
   "source": [
    "***Alışveriş Listesi:***\n",
    "* Kullanıcıdan alışveriş yapmak istediği ürünleri bir listeye ekleyerek, alışveriş listesini oluşturur."
   ]
  },
  {
   "cell_type": "code",
   "execution_count": null,
   "metadata": {},
   "outputs": [],
   "source": []
  },
  {
   "cell_type": "markdown",
   "metadata": {},
   "source": [
    "***Haftanın Günleri:***\n",
    "* Tuple kullanarak haftanın günlerini bir liste içinde saklar ve kullanıcıdan bir gün seçmesini ister."
   ]
  },
  {
   "cell_type": "code",
   "execution_count": null,
   "metadata": {},
   "outputs": [],
   "source": []
  },
  {
   "cell_type": "markdown",
   "metadata": {},
   "source": [
    "***Meyve Sepeti:***\n",
    "* Kullanıcıdan meyve ve miktarını alarak, bir set içinde benzersiz meyveleri saklar."
   ]
  },
  {
   "cell_type": "code",
   "execution_count": null,
   "metadata": {},
   "outputs": [],
   "source": []
  },
  {
   "cell_type": "markdown",
   "metadata": {},
   "source": [
    "***Öğrenci Bilgi Sistemi:***\n",
    "* Dictionary kullanarak öğrencilerin not bilgilerini saklar ve kullanıcıdan bir öğrenci numarası alarak notları gösterir."
   ]
  },
  {
   "cell_type": "code",
   "execution_count": null,
   "metadata": {},
   "outputs": [],
   "source": []
  }
 ],
 "metadata": {
  "kernelspec": {
   "display_name": "base",
   "language": "python",
   "name": "python3"
  },
  "language_info": {
   "codemirror_mode": {
    "name": "ipython",
    "version": 3
   },
   "file_extension": ".py",
   "mimetype": "text/x-python",
   "name": "python",
   "nbconvert_exporter": "python",
   "pygments_lexer": "ipython3",
   "version": "3.11.5"
  }
 },
 "nbformat": 4,
 "nbformat_minor": 2
}
