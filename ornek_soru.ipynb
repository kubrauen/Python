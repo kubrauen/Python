{
 "cells": [
  {
   "cell_type": "markdown",
   "metadata": {},
   "source": [
    "Write a program (using functions!) that asks the user for a long string containing multiple words. Print back to the user the same string, except with the words in backwards order. For example, say I type the string:\n",
    "\n",
    "  My name is Michele\n",
    "Then I would see the string:\n",
    "\n",
    "  Michele is name My"
   ]
  },
  {
   "cell_type": "code",
   "execution_count": 1,
   "metadata": {},
   "outputs": [
    {
     "name": "stdout",
     "output_type": "stream",
     "text": [
      "ksgnkl fkg\n"
     ]
    }
   ],
   "source": [
    "def ters_cumle():\n",
    "    # Kullanıcıdan bir cümle al\n",
    "    cumle = input(\"Lütfen bir cümle girin: \")\n",
    "    \n",
    "    # Cümleyi boşluklardan ayırarak kelimeler listesi oluştur\n",
    "    kelimeler = cumle.split()\n",
    "    \n",
    "    # Kelimelerin sırasını tersine çevir\n",
    "    ters_cumle = ' '.join(kelimeler[::-1])\n",
    "    \n",
    "    # Tersine çevrilmiş cümleyi yazdır\n",
    "    print(ters_cumle)\n",
    "\n",
    "# Fonksiyonu çağırarak işlemi gerçekleştir\n",
    "ters_cumle()\n"
   ]
  },
  {
   "cell_type": "code",
   "execution_count": null,
   "metadata": {},
   "outputs": [],
   "source": []
  },
  {
   "cell_type": "code",
   "execution_count": 3,
   "metadata": {},
   "outputs": [
    {
     "name": "stdout",
     "output_type": "stream",
     "text": [
      "sdgn dskgf\n"
     ]
    }
   ],
   "source": [
    "ters_cumle()"
   ]
  },
  {
   "cell_type": "code",
   "execution_count": null,
   "metadata": {},
   "outputs": [],
   "source": []
  }
 ],
 "metadata": {
  "kernelspec": {
   "display_name": "base",
   "language": "python",
   "name": "python3"
  },
  "language_info": {
   "codemirror_mode": {
    "name": "ipython",
    "version": 3
   },
   "file_extension": ".py",
   "mimetype": "text/x-python",
   "name": "python",
   "nbconvert_exporter": "python",
   "pygments_lexer": "ipython3",
   "version": "3.11.5"
  }
 },
 "nbformat": 4,
 "nbformat_minor": 2
}
