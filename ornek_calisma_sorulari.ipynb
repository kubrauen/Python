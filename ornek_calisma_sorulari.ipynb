{
 "cells": [
  {
   "cell_type": "markdown",
   "metadata": {},
   "source": [
    "Kullanıcıdan 5 adet tam sayı isteyin ve bu sayıları bir listede saklayın.\n"
   ]
  },
  {
   "cell_type": "code",
   "execution_count": 2,
   "metadata": {},
   "outputs": [
    {
     "name": "stdout",
     "output_type": "stream",
     "text": [
      "Girilen tam sayılar: [5, 7, 8, 3, 5]\n"
     ]
    }
   ],
   "source": [
    "# Kullanıcıdan 5 tam sayı girişi almak için boş bir liste oluşturuyoruz\n",
    "sayilar = []\n",
    "\n",
    "# 5 kez döngü kullanarak kullanıcıdan giriş alıyoruz\n",
    "for i in range(5):\n",
    "    sayi = int(input(f\"Lütfen {i+1}. tam sayıyı girin: \"))\n",
    "    sayilar.append(sayi)  # Girilen tam sayıyı listeye ekliyoruz\n",
    "\n",
    "print(\"Girilen tam sayılar:\", sayilar)\n"
   ]
  },
  {
   "cell_type": "markdown",
   "metadata": {},
   "source": [
    "Bir listedeki en büyük ve en küçük değerleri bulup ekrana yazdırın.\n"
   ]
  },
  {
   "cell_type": "code",
   "execution_count": 1,
   "metadata": {},
   "outputs": [
    {
     "name": "stdout",
     "output_type": "stream",
     "text": [
      "En küçük değer: 1\n",
      "En büyük değer: 10\n"
     ]
    }
   ],
   "source": [
    "liste = [3, 7, 2, 10, 5, 1]\n",
    "\n",
    "# En küçük değeri bulma\n",
    "min_deger = min(liste)\n",
    "\n",
    "# En büyük değeri bulma\n",
    "max_deger = max(liste)\n",
    "\n",
    "print(\"En küçük değer:\", min_deger)\n",
    "print(\"En büyük değer:\", max_deger)"
   ]
  },
  {
   "cell_type": "markdown",
   "metadata": {},
   "source": [
    "İki listenin birleşimini (concatenation) yaparak yeni bir liste oluşturun.\n"
   ]
  },
  {
   "cell_type": "code",
   "execution_count": 2,
   "metadata": {},
   "outputs": [
    {
     "name": "stdout",
     "output_type": "stream",
     "text": [
      "Birleşim Listesi: [1, 2, 3, 4, 5, 6]\n"
     ]
    }
   ],
   "source": [
    "liste1 = [1, 2, 3]\n",
    "liste2 = [4, 5, 6]\n",
    "\n",
    "birlesim_listesi = liste1 + liste2\n",
    "\n",
    "print(\"Birleşim Listesi:\", birlesim_listesi)"
   ]
  },
  {
   "cell_type": "markdown",
   "metadata": {},
   "source": [
    "Sabit bir liste oluşturarak içindeki elemanları ekrana yazdırın."
   ]
  },
  {
   "cell_type": "code",
   "execution_count": null,
   "metadata": {},
   "outputs": [],
   "source": []
  },
  {
   "cell_type": "markdown",
   "metadata": {},
   "source": [
    "\n",
    "İki tuple'ın elemanlarını toplayarak yeni bir tuple oluşturun.\n"
   ]
  },
  {
   "cell_type": "code",
   "execution_count": null,
   "metadata": {},
   "outputs": [],
   "source": []
  },
  {
   "cell_type": "markdown",
   "metadata": {},
   "source": [
    "Bir tuple'ın belirli bir elemanını değiştirin.\n"
   ]
  },
  {
   "cell_type": "code",
   "execution_count": 3,
   "metadata": {},
   "outputs": [
    {
     "name": "stdout",
     "output_type": "stream",
     "text": [
      "Güncellenmiş Tuple: (5, 6, 10, 8, 9)\n"
     ]
    }
   ],
   "source": [
    "tuple_1 = (5, 6, 7, 8, 9)\n",
    "index = 2  # Değiştirmek istediğiniz elemanın index'i\n",
    "new_value = 10  # Yeni değer\n",
    "\n",
    "# Yeni tuple oluşturarak istenen elemanı değiştirme\n",
    "updated_tuple = tuple_1[:index] + (new_value,) + tuple_1[index + 1:]\n",
    "\n",
    "print(\"Güncellenmiş Tuple:\", updated_tuple)"
   ]
  },
  {
   "cell_type": "markdown",
   "metadata": {},
   "source": [
    "Kullanıcıdan alınan bir cümleyi kelimelerine ayırarak bir listede saklayın"
   ]
  },
  {
   "cell_type": "code",
   "execution_count": 4,
   "metadata": {},
   "outputs": [
    {
     "name": "stdout",
     "output_type": "stream",
     "text": [
      "Cümle kelimeleri: ['Techpro', 'education']\n"
     ]
    }
   ],
   "source": [
    "cumle = input(\"Lütfen bir cümle girin: \")\n",
    "\n",
    "kelimeler = cumle.split()\n",
    "\n",
    "print(\"Cümle kelimeleri:\", kelimeler)"
   ]
  },
  {
   "cell_type": "markdown",
   "metadata": {},
   "source": [
    "Bir listedeki elemanları ters çevirerek yeni bir liste oluşturun"
   ]
  },
  {
   "cell_type": "code",
   "execution_count": 5,
   "metadata": {},
   "outputs": [
    {
     "name": "stdout",
     "output_type": "stream",
     "text": [
      "Ters Çevrilmiş Liste: [5, 4, 3, 2, 1]\n"
     ]
    }
   ],
   "source": [
    "liste = [1, 2, 3, 4, 5]\n",
    "\n",
    "ters_liste = list(reversed(liste))\n",
    "\n",
    "print(\"Ters Çevrilmiş Liste:\", ters_liste)"
   ]
  },
  {
   "cell_type": "markdown",
   "metadata": {},
   "source": [
    "Kullanıcıdan alınan bir sayının faktöriyelini hesaplayın.\n",
    "\n"
   ]
  },
  {
   "cell_type": "code",
   "execution_count": null,
   "metadata": {},
   "outputs": [],
   "source": []
  },
  {
   "cell_type": "markdown",
   "metadata": {},
   "source": [
    "İki listenin birleşiminden tekrar eden elemanları kaldırarak yeni bir liste oluşturun.\n",
    "\n"
   ]
  },
  {
   "cell_type": "code",
   "execution_count": 6,
   "metadata": {},
   "outputs": [
    {
     "name": "stdout",
     "output_type": "stream",
     "text": [
      "Birleşim Listesi (tekrar edenlerden arındırılmış): [1, 2, 3, 4, 5, 6, 7, 8]\n"
     ]
    }
   ],
   "source": [
    "liste1 = [1, 2, 3, 4, 5]\n",
    "liste2 = [4, 5, 6, 7, 8]\n",
    "\n",
    "birlesim_listesi = list(set(liste1 + liste2))\n",
    "\n",
    "print(\"Birleşim Listesi (tekrar edenlerden arındırılmış):\", birlesim_listesi)"
   ]
  },
  {
   "cell_type": "markdown",
   "metadata": {},
   "source": [
    "Bir listedeki elemanları tek olanları karesini alarak yeni bir liste oluşturun.\n",
    "\n"
   ]
  },
  {
   "cell_type": "code",
   "execution_count": null,
   "metadata": {},
   "outputs": [],
   "source": []
  },
  {
   "cell_type": "markdown",
   "metadata": {},
   "source": [
    "İki set'in birleşiminden tekrar eden elemanları kaldırarak yeni bir set oluşturun.\n",
    "\n"
   ]
  },
  {
   "cell_type": "code",
   "execution_count": null,
   "metadata": {},
   "outputs": [],
   "source": []
  },
  {
   "cell_type": "markdown",
   "metadata": {},
   "source": [
    "Kullanıcıdan alınan 5 adet sayıyı bir küme olarak saklayın. Ardından bu kümenin elemanlarını büyükten küçüğe sıralayarak ekrana yazdırın."
   ]
  },
  {
   "cell_type": "code",
   "execution_count": null,
   "metadata": {},
   "outputs": [],
   "source": []
  },
  {
   "cell_type": "markdown",
   "metadata": {},
   "source": [
    "Kullanıcıdan alınan bir cümlenin içinde geçen harfleri bir küme olarak saklayın. Daha sonra bu kümenin elemanlarını alfabetik sıraya göre ekrana yazdırın."
   ]
  },
  {
   "cell_type": "code",
   "execution_count": null,
   "metadata": {},
   "outputs": [],
   "source": []
  }
 ],
 "metadata": {
  "kernelspec": {
   "display_name": "base",
   "language": "python",
   "name": "python3"
  },
  "language_info": {
   "codemirror_mode": {
    "name": "ipython",
    "version": 3
   },
   "file_extension": ".py",
   "mimetype": "text/x-python",
   "name": "python",
   "nbconvert_exporter": "python",
   "pygments_lexer": "ipython3",
   "version": "3.11.5"
  }
 },
 "nbformat": 4,
 "nbformat_minor": 2
}
