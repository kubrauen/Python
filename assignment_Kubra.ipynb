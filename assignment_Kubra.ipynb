{
 "cells": [
  {
   "cell_type": "markdown",
   "metadata": {},
   "source": [
    "1 - Kullanıcıdan input ile iki veri alın. Bu veriler tamsayı ise çarpımını yazdırın. "
   ]
  },
  {
   "cell_type": "code",
   "execution_count": 25,
   "metadata": {},
   "outputs": [
    {
     "ename": "IndentationError",
     "evalue": "unexpected indent (1532201818.py, line 4)",
     "output_type": "error",
     "traceback": [
      "\u001b[1;36m  Cell \u001b[1;32mIn[25], line 4\u001b[1;36m\u001b[0m\n\u001b[1;33m    x.isnum()\u001b[0m\n\u001b[1;37m    ^\u001b[0m\n\u001b[1;31mIndentationError\u001b[0m\u001b[1;31m:\u001b[0m unexpected indent\n"
     ]
    }
   ],
   "source": [
    "x = int(input(\"Lutfen bir sayi giriniz\"))\n",
    "y = int(input(\"Lutfen 2. sayiyi giriniz\"))\n",
    "\n",
    "carpim = (x * y)\n",
    "print (carpim)\n"
   ]
  },
  {
   "cell_type": "markdown",
   "metadata": {},
   "source": [
    "2 - Kullanıcıdan bir sayı isteyin. Sayı tek ise 2 katını çift ise karesini yazdırın. "
   ]
  },
  {
   "cell_type": "code",
   "execution_count": 23,
   "metadata": {},
   "outputs": [
    {
     "name": "stdout",
     "output_type": "stream",
     "text": [
      "5\n",
      "Girdiginiz sayi tek basamakli bir sayidir ve 2 ile carpimi  10 ' a esittir\n"
     ]
    }
   ],
   "source": [
    "num = int(input(\"lutfen bir sayi girin\"))\n",
    "print(num)\n",
    "if num % 2 == 0: \n",
    "    print(\"Girdiginiz sayi cift bir sayidir ve karesi :\", (num ** 2), \"'e esittir '\")\n",
    "elif num % 2 == 1:\n",
    "    print(\"Girdiginiz sayi tek basamakli bir sayidir ve 2 ile carpimi \", (num * 2), \"' a esittir\")"
   ]
  },
  {
   "cell_type": "markdown",
   "metadata": {},
   "source": [
    "3 - Kullanıcıdan iki tam sayı isteyin. Sayılar eşitse veya sayıların farkı 5 in katı ise True döndüren algoritmayı yazın. Aksi taktirde False çıktısı almalısınız"
   ]
  },
  {
   "cell_type": "code",
   "execution_count": null,
   "metadata": {},
   "outputs": [],
   "source": [
    "sayi1 = int(input(\"Birinci tam sayıyı girin: \"))\n",
    "sayi2 = int(input(\"İkinci tam sayıyı girin: \"))\n",
    "\n",
    "if sayi1 == sayi2 or abs(sayi1 - sayi2) % 5 == 0:\n",
    "    print(True)\n",
    "else:\n",
    "    print(False)"
   ]
  },
  {
   "cell_type": "markdown",
   "metadata": {},
   "source": [
    "4 - Kullanıcıya sınavdan aldığı notu sorunuz. Denk gelen Harf notunu yazdırın. 0-100 aralığı        dışında girilen notların geçersiz olduğuu belirtmeyi unutmayın. \n",
    "    80 - 100 aralığı \"A\",\n",
    "    65 - 79 aralığı \"B\",\n",
    "    55 - 64 aralığı \"C\",\n",
    "    35 - 54 aralığı \"D\",\n",
    "    0 - 34 aralığı \"F\""
   ]
  },
  {
   "cell_type": "code",
   "execution_count": null,
   "metadata": {},
   "outputs": [],
   "source": [
    "notu = int(input(\"Sınavdan aldığınız notu girin: \"))\n",
    "\n",
    "if notu >= 0 and notu <= 100:\n",
    "    if notu >= 80:\n",
    "        print(\"Harf notunuz: A\")\n",
    "    elif notu >= 65:\n",
    "        print(\"Harf notunuz: B\")\n",
    "    elif notu >= 55:\n",
    "        print(\"Harf notunuz: C\")\n",
    "    elif notu >= 35:\n",
    "        print(\"Harf notunuz: D\")\n",
    "    else:\n",
    "        print(\"Harf notunuz: F\")\n",
    "else:\n",
    "    print(\"Geçersiz not! Lütfen 0 ile 100 arasında bir not girin.\")"
   ]
  },
  {
   "cell_type": "markdown",
   "metadata": {},
   "source": [
    "5 - Kullanıcıdan bir saniye değeri girmesini isteyin. girilen saniyeyi saat dakika ve sn cinsinden yazdırın. \n",
    "örn: 19520 sn >> 5 saat, 25 dk, 20 saniye "
   ]
  },
  {
   "cell_type": "code",
   "execution_count": null,
   "metadata": {},
   "outputs": [],
   "source": [
    "saniye = int(input(\"Bir saniye değeri girin: \"))\n",
    "\n",
    "saat = saniye // 3600\n",
    "kalan_saniye = saniye % 3600\n",
    "dakika = kalan_saniye // 60\n",
    "saniye = kalan_saniye % 60\n",
    "\n",
    "print(f\"{saat} saat, {dakika} dakika, {saniye} saniye\")"
   ]
  }
 ],
 "metadata": {
  "kernelspec": {
   "display_name": "base",
   "language": "python",
   "name": "python3"
  },
  "language_info": {
   "codemirror_mode": {
    "name": "ipython",
    "version": 3
   },
   "file_extension": ".py",
   "mimetype": "text/x-python",
   "name": "python",
   "nbconvert_exporter": "python",
   "pygments_lexer": "ipython3",
   "version": "3.11.5"
  },
  "orig_nbformat": 4
 },
 "nbformat": 4,
 "nbformat_minor": 2
}
