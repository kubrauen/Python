{
 "cells": [
  {
   "cell_type": "markdown",
   "metadata": {},
   "source": [
    "# List Comprehension"
   ]
  },
  {
   "cell_type": "code",
   "execution_count": 3,
   "metadata": {},
   "outputs": [
    {
     "name": "stdout",
     "output_type": "stream",
     "text": [
      "[1, 4, 9, 16, 25]\n"
     ]
    }
   ],
   "source": [
    "liste_1 = [1,2,3,4,5]  # Karesini alip listeye eklemek istiyorum\n",
    "\n",
    "empty_list = []\n",
    "\n",
    "for i in liste_1 :\n",
    "    empty_list.append(i ** 2)\n",
    "\n",
    "print(empty_list)"
   ]
  },
  {
   "cell_type": "code",
   "execution_count": 4,
   "metadata": {},
   "outputs": [
    {
     "data": {
      "text/plain": [
       "[1, 4, 9, 16, 25]"
      ]
     },
     "execution_count": 4,
     "metadata": {},
     "output_type": "execute_result"
    }
   ],
   "source": [
    "# List Comperesion ile yapimi\n",
    "\n",
    "[ i ** 2 for i in liste_1]"
   ]
  },
  {
   "cell_type": "code",
   "execution_count": 7,
   "metadata": {},
   "outputs": [
    {
     "data": {
      "text/plain": [
       "['Renault!', 'fiat*', 'ford?']"
      ]
     },
     "execution_count": 7,
     "metadata": {},
     "output_type": "execute_result"
    }
   ],
   "source": [
    "liste_2 = [\"Renault!\", \"fiat*\", \"ford?\"]\n",
    "\n",
    "liste_2\n"
   ]
  },
  {
   "cell_type": "code",
   "execution_count": 10,
   "metadata": {},
   "outputs": [
    {
     "name": "stdout",
     "output_type": "stream",
     "text": [
      "Renault\n",
      "fiat\n",
      "ford\n"
     ]
    }
   ],
   "source": [
    "for i in liste_2:\n",
    "    print(i.replace(\"!\", \"\").replace(\"*\", \"\").replace(\"?\",\"\"))\n",
    "\n"
   ]
  },
  {
   "cell_type": "code",
   "execution_count": 12,
   "metadata": {},
   "outputs": [
    {
     "name": "stdout",
     "output_type": "stream",
     "text": [
      "['Renault', 'fiat', 'ford']\n"
     ]
    }
   ],
   "source": [
    "duzenlenmis_liste = []\n",
    "\n",
    "for i in liste_2:\n",
    "    duzenlenmis_liste.append(i.strip(\"?!*\"))\n",
    "\n",
    "print(duzenlenmis_liste)"
   ]
  },
  {
   "cell_type": "code",
   "execution_count": 14,
   "metadata": {},
   "outputs": [
    {
     "data": {
      "text/plain": [
       "['Renault', 'fiat', 'ford']"
      ]
     },
     "execution_count": 14,
     "metadata": {},
     "output_type": "execute_result"
    }
   ],
   "source": [
    "[ i.strip(\"!?*\") for i in liste_2] # For dongusu kullaniyorsak islem kismi for dongusunun solunda yapilmali"
   ]
  },
  {
   "cell_type": "code",
   "execution_count": 15,
   "metadata": {},
   "outputs": [
    {
     "name": "stdout",
     "output_type": "stream",
     "text": [
      "[1, 15, 5, 89, 45, 71, 45, 95, 61]\n"
     ]
    }
   ],
   "source": [
    "sayilar_listesi = [1,15,2,36,5,89,45,62,52,71,30,56,45,95,61,48]\n",
    "\n",
    "tek_sayilar = []\n",
    "\n",
    "for i in sayilar_listesi:\n",
    "\n",
    "    if i %2 :\n",
    "        tek_sayilar.append(i)\n",
    "\n",
    "print(tek_sayilar)\n",
    "\n",
    "\n",
    "\n"
   ]
  },
  {
   "cell_type": "markdown",
   "metadata": {},
   "source": [
    "## For + If"
   ]
  },
  {
   "cell_type": "code",
   "execution_count": 16,
   "metadata": {},
   "outputs": [
    {
     "data": {
      "text/plain": [
       "[1, 15, 5, 89, 45, 71, 45, 95, 61]"
      ]
     },
     "execution_count": 16,
     "metadata": {},
     "output_type": "execute_result"
    }
   ],
   "source": [
    "[ i for i in sayilar_listesi if i % 2 == 1]\n",
    "\n",
    "# sayilar listesinde for dongusuyle dolas. eger kalan1 se tek sayidir yazdir\n",
    "\n",
    "#For + if kullanilirken if yapisi for un sagina yapilacak islem for un soluna yazilir"
   ]
  },
  {
   "cell_type": "markdown",
   "metadata": {},
   "source": [
    "## For + If + Else"
   ]
  },
  {
   "cell_type": "code",
   "execution_count": 21,
   "metadata": {},
   "outputs": [
    {
     "name": "stdout",
     "output_type": "stream",
     "text": [
      "[1, 225, 2, 36, 25, 7921, 2025, 62, 52, 5041, 30, 56, 2025, 9025, 3721, 48]\n"
     ]
    }
   ],
   "source": [
    "# çift olanlar yerinde olduğu gibi kalsın, tek olanların karesini yazdırın\n",
    "sayilar_listesi = [1,15,2,36,5,89,45,62,52,71,30,56,45,95,61,48]\n",
    "\n",
    "sonuc = []\n",
    "\n",
    "for i in sayilar_listesi:\n",
    "\n",
    "\n",
    "\n",
    "        if  i % 2 == 0:\n",
    "\n",
    "            sonuc.append(i)\n",
    "\n",
    "        else:\n",
    "            sonuc.append(i ** 2 )\n",
    "print(sonuc)\n",
    "\n",
    "\n",
    "\n"
   ]
  },
  {
   "cell_type": "code",
   "execution_count": 23,
   "metadata": {},
   "outputs": [
    {
     "data": {
      "text/plain": [
       "[1, 225, 2, 36, 25, 7921, 2025, 62, 52, 5041, 30, 56, 2025, 9025, 3721, 48]"
      ]
     },
     "execution_count": 23,
     "metadata": {},
     "output_type": "execute_result"
    }
   ],
   "source": [
    "[ i if i % 2 == 0 else i ** 2 for i in sayilar_listesi]\n",
    "\n",
    "\n",
    "# for if + else ile kullanılacaksa en sağa yazılır. diğer işlemler soldadır.\n",
    "#if in işlemi if in solunda, else in işlemi else in sağında yazılır.\n",
    "\n",
    "# for if + else ile kullanılacaksa en saga yazılır.\n",
    "# diğer işlemler soldadır.\n",
    "# if in işlemi if in solunda\n",
    "# else in işlemi else in sagında yazılır"
   ]
  },
  {
   "cell_type": "code",
   "execution_count": 24,
   "metadata": {},
   "outputs": [
    {
     "data": {
      "text/plain": [
       "[4, 5, 6, 8, 10, 12, 12, 15, 18]"
      ]
     },
     "execution_count": 24,
     "metadata": {},
     "output_type": "execute_result"
    }
   ],
   "source": [
    "[i * j for i in (1,2,3) for j in [ 4,5,6]]"
   ]
  },
  {
   "cell_type": "code",
   "execution_count": null,
   "metadata": {},
   "outputs": [],
   "source": []
  },
  {
   "cell_type": "code",
   "execution_count": 25,
   "metadata": {},
   "outputs": [
    {
     "name": "stdout",
     "output_type": "stream",
     "text": [
      "4\n",
      "5\n",
      "6\n",
      "8\n",
      "10\n",
      "12\n",
      "12\n",
      "15\n",
      "18\n"
     ]
    }
   ],
   "source": [
    "for i in ( 1,2,3):\n",
    "    for j in [4,5,6]:\n",
    "        print( i * j)"
   ]
  },
  {
   "cell_type": "code",
   "execution_count": 26,
   "metadata": {},
   "outputs": [
    {
     "data": {
      "text/plain": [
       "[4, 5, 6, 8, 10, 12, 12, 15, 18]"
      ]
     },
     "execution_count": 26,
     "metadata": {},
     "output_type": "execute_result"
    }
   ],
   "source": [
    "[ i * j for i in (1,2,3) for j in [4,5,6]]\n",
    "#----------------ic dongu---------dis gongu--"
   ]
  },
  {
   "cell_type": "code",
   "execution_count": null,
   "metadata": {},
   "outputs": [],
   "source": [
    "\n"
   ]
  },
  {
   "cell_type": "code",
   "execution_count": 30,
   "metadata": {},
   "outputs": [],
   "source": []
  },
  {
   "cell_type": "code",
   "execution_count": 31,
   "metadata": {},
   "outputs": [
    {
     "name": "stdout",
     "output_type": "stream",
     "text": [
      "25\n"
     ]
    }
   ],
   "source": []
  },
  {
   "cell_type": "code",
   "execution_count": null,
   "metadata": {},
   "outputs": [],
   "source": []
  }
 ],
 "metadata": {
  "kernelspec": {
   "display_name": "base",
   "language": "python",
   "name": "python3"
  },
  "language_info": {
   "codemirror_mode": {
    "name": "ipython",
    "version": 3
   },
   "file_extension": ".py",
   "mimetype": "text/x-python",
   "name": "python",
   "nbconvert_exporter": "python",
   "pygments_lexer": "ipython3",
   "version": "3.11.5"
  }
 },
 "nbformat": 4,
 "nbformat_minor": 2
}
